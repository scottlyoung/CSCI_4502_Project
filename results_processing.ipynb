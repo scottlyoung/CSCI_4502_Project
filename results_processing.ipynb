{
 "cells": [
  {
   "cell_type": "code",
   "execution_count": 4,
   "metadata": {
    "collapsed": true
   },
   "outputs": [],
   "source": [
    "def removeRedundentLines(in_name, out_name):\n",
    "    file = open(in_name, \"r\")\n",
    "    output = []\n",
    "    for line in file:\n",
    "        if not line in output:\n",
    "            output.append(line)\n",
    "    file.close()\n",
    "    file = open(out_name, \"w\")\n",
    "    for line in output:\n",
    "        file.write(line)\n",
    "    file.close()"
   ]
  },
  {
   "cell_type": "code",
   "execution_count": 7,
   "metadata": {
    "collapsed": false
   },
   "outputs": [],
   "source": [
    "removeRedundentLines(\"Data/high_lift_correlation_comps.txt\", \"Data/high_lift_correlation_comps_no_redundant.txt\")"
   ]
  },
  {
   "cell_type": "code",
   "execution_count": 8,
   "metadata": {
    "collapsed": true
   },
   "outputs": [],
   "source": [
    "removeRedundentLines(\"Data/high_chi_correlation_comps.txt\", \"Data/high_chi_correlation_comps_no_redundant.txt\")"
   ]
  },
  {
   "cell_type": "code",
   "execution_count": 14,
   "metadata": {
    "collapsed": true
   },
   "outputs": [],
   "source": [
    "def countOccurances(file_names, out_name):\n",
    "    occurances = {}\n",
    "    for file_name in file_names:\n",
    "        file = open(file_name, \"r\")\n",
    "        for line in file:\n",
    "            if line in occurances:\n",
    "                occurances[line] += 1\n",
    "            else:\n",
    "                occurances[line] = 1\n",
    "        file.close()\n",
    "    file = open(out_name, \"w\")\n",
    "    m = max(occurances.values())\n",
    "    i = 2\n",
    "    while i <= m:\n",
    "        file.write(str(i) + \":\\n\")\n",
    "        for line in occurances:\n",
    "            if occurances[line] == i:\n",
    "                file.write(line)\n",
    "        i += 1\n",
    "    file.close()"
   ]
  },
  {
   "cell_type": "code",
   "execution_count": 15,
   "metadata": {
    "collapsed": false
   },
   "outputs": [],
   "source": [
    "countOccurances([\"Data/high_chi_correlation_comps_no_redundant.txt\",\"Data/high_lift_correlation_comps_no_redundant.txt\",\"Data/too_many_disputes.txt\",\"Data/too_many_disputes_type.txt\"],\"Data/occurance_counts.txt\")"
   ]
  },
  {
   "cell_type": "code",
   "execution_count": 20,
   "metadata": {
    "collapsed": true
   },
   "outputs": [],
   "source": [
    "def combineListsUnion(in_name_1, in_name_2, out_name):\n",
    "    file = open(in_name_1, \"r\")\n",
    "    output = []\n",
    "    for line in file:\n",
    "        output.append(line)\n",
    "    file.close()\n",
    "    file = open(in_name_2, \"r\")\n",
    "    for line in file:\n",
    "        if not line in output:\n",
    "            output.append(line)\n",
    "    file.close()\n",
    "    file = open(out_name, \"w\")\n",
    "    for line in output:\n",
    "        file.write(line)\n",
    "    file.close()"
   ]
  },
  {
   "cell_type": "code",
   "execution_count": 24,
   "metadata": {
    "collapsed": true
   },
   "outputs": [],
   "source": [
    "def combineListsIntersect(in_name_1, in_name_2, out_name):\n",
    "    file = open(in_name_1, \"r\")\n",
    "    content = []\n",
    "    for line in file:\n",
    "        content.append(line)\n",
    "    file.close()\n",
    "    file = open(in_name_2, \"r\")\n",
    "    output = []\n",
    "    for line in file:\n",
    "        if line in content:\n",
    "            output.append(line)\n",
    "    file.close()\n",
    "    file = open(out_name, \"w\")\n",
    "    for line in output:\n",
    "        file.write(line)\n",
    "    file.close()"
   ]
  },
  {
   "cell_type": "code",
   "execution_count": 27,
   "metadata": {
    "collapsed": true
   },
   "outputs": [],
   "source": [
    "combineListsUnion(\"Data/high_chi_correlation_comps_no_redundant.txt\",\"Data/high_lift_correlation_comps_no_redundant.txt\",\"Data/correlation_union.txt\")\n",
    "combineListsUnion(\"Data/too_many_disputes.txt\",\"Data/too_many_disputes_type.txt\",\"Data/dispute_union.txt\")"
   ]
  },
  {
   "cell_type": "code",
   "execution_count": 28,
   "metadata": {
    "collapsed": false
   },
   "outputs": [],
   "source": [
    "combineListsIntersect(\"Data/correlation_union.txt\",\"Data/dispute_union.txt\",\"Data/company_lists_intersect.txt\")"
   ]
  },
  {
   "cell_type": "code",
   "execution_count": null,
   "metadata": {
    "collapsed": true
   },
   "outputs": [],
   "source": []
  }
 ],
 "metadata": {
  "kernelspec": {
   "display_name": "Python 3",
   "language": "python",
   "name": "python3"
  },
  "language_info": {
   "codemirror_mode": {
    "name": "ipython",
    "version": 3
   },
   "file_extension": ".py",
   "mimetype": "text/x-python",
   "name": "python",
   "nbconvert_exporter": "python",
   "pygments_lexer": "ipython3",
   "version": "3.6.0"
  }
 },
 "nbformat": 4,
 "nbformat_minor": 2
}
